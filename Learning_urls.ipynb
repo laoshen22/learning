{
 "cells": [
  {
   "cell_type": "code",
   "execution_count": null,
   "metadata": {
    "collapsed": true
   },
   "outputs": [],
   "source": [
    "🐍 OMG Snake! 🐍 \n",
    "Here's a simple 8 Step guide to learn #DataScience and #MachineLearning with Python: \n",
    "\n",
    "---START---\n",
    "\n",
    "✅ Step 1\n",
    "Download and Install Anaconda\n",
    "https://lnkd.in/gWHY_ij\n",
    "\n",
    "✅ Step 2\n",
    "a. Learn the basics of Python (Lists, Tuples, Dictionaries, etc)\n",
    "b. Understand the basics of data structures and algorithms \n",
    "https://lnkd.in/gYKnJWN\n",
    "\n",
    "\n",
    "---Beginner Level Completed---\n",
    "\n",
    "✅ Step 3\n",
    "a. Understand the use of regular expressions\n",
    "b. Do more practice problems in Python\n",
    "Hacker Rank: https://lnkd.in/gEufBUu\n",
    "Codeacademy: https://lnkd.in/gGQ7cuv\n",
    "\n",
    "✅ Step 4\n",
    "Learn the scientific libraries (NumPy, SciPy, Pandas)\n",
    "Pandas: https://lnkd.in/g4DFNpJ\n",
    "\n",
    "✅ Step 5\n",
    "Data Visualization (Matplotlib, plotly, seaborne, etc…)\n",
    "Matplotlib: https://lnkd.in/g_3fx_6\n",
    "Python Gallery: python-graph-gallery.com\n",
    "\n",
    "---Intermediate Level Done---\n",
    "\n",
    "✅ Step 6\n",
    "Machine Learning with Scikit-Learn\n",
    "Machine Learning in 20min: https://lnkd.in/g-Su_um\n",
    "Skcikit-Learn Tutorial: https://lnkd.in/gSThdRD\n",
    "\n",
    "✅ Step 7:\n",
    "Practice your machine learning skills\n",
    "Kaggle Machine Learning Tutorial: https://lnkd.in/gT5nNwS\n",
    "\n",
    "\n",
    "---Advanced Level Completed---\n",
    "\n",
    "✅ Step 8:\n",
    "Deep Learning\n",
    "Deeplearning.ai (Andrew Ng): https://lnkd.in/ge5CK-u\n",
    "Kaggle Deep Learning Tutorial: https://lnkd.in/gHKWM5m"
   ]
  },
  {
   "cell_type": "code",
   "execution_count": null,
   "metadata": {},
   "outputs": [],
   "source": []
  }
 ],
 "metadata": {
  "kernelspec": {
   "display_name": "Python 2",
   "language": "python",
   "name": "python2"
  },
  "language_info": {
   "codemirror_mode": {
    "name": "ipython",
    "version": 2
   },
   "file_extension": ".py",
   "mimetype": "text/x-python",
   "name": "python",
   "nbconvert_exporter": "python",
   "pygments_lexer": "ipython2",
   "version": "2.7.6"
  }
 },
 "nbformat": 4,
 "nbformat_minor": 0
}
